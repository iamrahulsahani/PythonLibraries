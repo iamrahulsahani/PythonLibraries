{
 "cells": [
  {
   "cell_type": "markdown",
   "id": "e96ad75e",
   "metadata": {},
   "source": [
    "# bruteforce - group anagram"
   ]
  },
  {
   "cell_type": "code",
   "execution_count": 125,
   "id": "da987cb5",
   "metadata": {},
   "outputs": [
    {
     "data": {
      "text/plain": [
       "[['eat', 'tea', 'ate'], ['tan', 'nat'], ['bat']]"
      ]
     },
     "execution_count": 125,
     "metadata": {},
     "output_type": "execute_result"
    }
   ],
   "source": [
    "class Solution:\n",
    "    def groupAnagrams(self, strs: List[str]) -> List[List[str]]:\n",
    "        hashmap = {}\n",
    "        for word in strs:\n",
    "            srt = \"\".join(sorted(word))\n",
    "            if srt not in hashmap:\n",
    "                hashmap[srt] = [word]\n",
    "            else:\n",
    "                hashmap[srt].append(word)\n",
    "        return list(hashmap.values())\n",
    "    \n",
    "strs = [\"eat\",\"tea\",\"tan\",\"ate\",\"nat\",\"bat\"]    \n",
    "s = Solution()\n",
    "s.groupAnagrams(strs)"
   ]
  },
  {
   "cell_type": "code",
   "execution_count": null,
   "id": "edd2559c",
   "metadata": {},
   "outputs": [],
   "source": []
  },
  {
   "cell_type": "code",
   "execution_count": 3,
   "id": "9a231e9a",
   "metadata": {},
   "outputs": [],
   "source": [
    "d = {\"a\":4,\"b\":1}"
   ]
  },
  {
   "cell_type": "code",
   "execution_count": 6,
   "id": "226762f9",
   "metadata": {},
   "outputs": [
    {
     "data": {
      "text/plain": [
       "4"
      ]
     },
     "execution_count": 6,
     "metadata": {},
     "output_type": "execute_result"
    }
   ],
   "source": [
    "x = max(d.values())\n",
    "x"
   ]
  },
  {
   "cell_type": "code",
   "execution_count": 3,
   "id": "29970cdf",
   "metadata": {},
   "outputs": [
    {
     "data": {
      "text/plain": [
       "[1, 2, 3, 5]"
      ]
     },
     "execution_count": 3,
     "metadata": {},
     "output_type": "execute_result"
    }
   ],
   "source": [
    "nums = [1,2,3,4,5]\n",
    "\n",
    "nums[0:3]+nums[4:]"
   ]
  },
  {
   "cell_type": "code",
   "execution_count": 25,
   "id": "c9b01408",
   "metadata": {},
   "outputs": [],
   "source": [
    "pos = [x for x in nums if x > 0]"
   ]
  },
  {
   "cell_type": "code",
   "execution_count": 4,
   "id": "614c5a41",
   "metadata": {},
   "outputs": [],
   "source": [
    "for x in nums:\n",
    "    if x > 0:\n",
    "        x"
   ]
  },
  {
   "cell_type": "code",
   "execution_count": 15,
   "id": "51612bfe",
   "metadata": {},
   "outputs": [
    {
     "data": {
      "text/plain": [
       "['b',\n",
       " 'c',\n",
       " 'd',\n",
       " 'e',\n",
       " 'f',\n",
       " 'g',\n",
       " 'h',\n",
       " 'i',\n",
       " 'j',\n",
       " 'k',\n",
       " 'l',\n",
       " 'm',\n",
       " 'n',\n",
       " 'o',\n",
       " 'p',\n",
       " 'q',\n",
       " 'r',\n",
       " 's',\n",
       " 't',\n",
       " 'u',\n",
       " 'v',\n",
       " 'w',\n",
       " 'x',\n",
       " 'y',\n",
       " 'z']"
      ]
     },
     "execution_count": 15,
     "metadata": {},
     "output_type": "execute_result"
    }
   ],
   "source": [
    "l = [chr(x) for x in range(ord('a'), ord('z')+1)]\n",
    "l.pop(0)\n",
    "l"
   ]
  },
  {
   "cell_type": "code",
   "execution_count": 16,
   "id": "f68ae52b",
   "metadata": {},
   "outputs": [
    {
     "data": {
      "text/plain": [
       "3"
      ]
     },
     "execution_count": 16,
     "metadata": {},
     "output_type": "execute_result"
    }
   ],
   "source": [
    "max(3,3)"
   ]
  },
  {
   "cell_type": "code",
   "execution_count": 33,
   "id": "0eeefb92",
   "metadata": {},
   "outputs": [
    {
     "data": {
      "text/plain": [
       "True"
      ]
     },
     "execution_count": 33,
     "metadata": {},
     "output_type": "execute_result"
    }
   ],
   "source": [
    "x ='A'\n",
    "x.isalpha()"
   ]
  },
  {
   "cell_type": "code",
   "execution_count": 26,
   "id": "e9cf3621",
   "metadata": {},
   "outputs": [
    {
     "data": {
      "text/plain": [
       "[0, 0, 0, 0]"
      ]
     },
     "execution_count": 26,
     "metadata": {},
     "output_type": "execute_result"
    }
   ],
   "source": [
    "l = [0] * len(x)\n",
    "l"
   ]
  },
  {
   "cell_type": "code",
   "execution_count": 29,
   "id": "30442b08",
   "metadata": {},
   "outputs": [],
   "source": [
    "x = [1] * 5"
   ]
  },
  {
   "cell_type": "code",
   "execution_count": 30,
   "id": "3efeb701",
   "metadata": {},
   "outputs": [
    {
     "data": {
      "text/plain": [
       "[1, 1, 1, 1, 1]"
      ]
     },
     "execution_count": 30,
     "metadata": {},
     "output_type": "execute_result"
    }
   ],
   "source": [
    "x"
   ]
  },
  {
   "cell_type": "code",
   "execution_count": 31,
   "id": "6dc6e2a1",
   "metadata": {},
   "outputs": [
    {
     "data": {
      "text/plain": [
       "False"
      ]
     },
     "execution_count": 31,
     "metadata": {},
     "output_type": "execute_result"
    }
   ],
   "source": [
    "'-'.isalpha()"
   ]
  },
  {
   "cell_type": "code",
   "execution_count": 34,
   "id": "15ef36c0",
   "metadata": {},
   "outputs": [
    {
     "data": {
      "text/plain": [
       "'A'"
      ]
     },
     "execution_count": 34,
     "metadata": {},
     "output_type": "execute_result"
    }
   ],
   "source": [
    "'A'"
   ]
  },
  {
   "cell_type": "code",
   "execution_count": 36,
   "id": "0ed9e25d",
   "metadata": {},
   "outputs": [
    {
     "data": {
      "text/plain": [
       "1"
      ]
     },
     "execution_count": 36,
     "metadata": {},
     "output_type": "execute_result"
    }
   ],
   "source": [
    "s = \"rahul\"\n",
    "s.find('a')"
   ]
  },
  {
   "cell_type": "code",
   "execution_count": 37,
   "id": "aec3163a",
   "metadata": {},
   "outputs": [
    {
     "data": {
      "text/plain": [
       "1"
      ]
     },
     "execution_count": 37,
     "metadata": {},
     "output_type": "execute_result"
    }
   ],
   "source": [
    "l = [2,3]\n",
    "l.count(2)"
   ]
  },
  {
   "cell_type": "code",
   "execution_count": 44,
   "id": "b065daea",
   "metadata": {},
   "outputs": [
    {
     "name": "stdout",
     "output_type": "stream",
     "text": [
      "[4, 0, 2, 2, 1, 3, 0, 2]\n"
     ]
    },
    {
     "data": {
      "text/plain": [
       "5"
      ]
     },
     "execution_count": 44,
     "metadata": {},
     "output_type": "execute_result"
    }
   ],
   "source": [
    "def removeElement(nums, val):\n",
    "    slow = 0\n",
    "    s = 0\n",
    "    for fast in range(len(nums)):\n",
    "        if nums[fast] != val:\n",
    "            nums[slow], nums[fast] = nums[fast], nums[slow]\n",
    "            s += 1\n",
    "    print(nums)\n",
    "    return s\n",
    "removeElement([0,1,2,2,3,0,4,2], 2)\n",
    "#[0,1,4,0,3,_,_,_]"
   ]
  },
  {
   "cell_type": "code",
   "execution_count": null,
   "id": "cf8dd319",
   "metadata": {},
   "outputs": [],
   "source": []
  }
 ],
 "metadata": {
  "kernelspec": {
   "display_name": "Python 3 (ipykernel)",
   "language": "python",
   "name": "python3"
  },
  "language_info": {
   "codemirror_mode": {
    "name": "ipython",
    "version": 3
   },
   "file_extension": ".py",
   "mimetype": "text/x-python",
   "name": "python",
   "nbconvert_exporter": "python",
   "pygments_lexer": "ipython3",
   "version": "3.10.4"
  }
 },
 "nbformat": 4,
 "nbformat_minor": 5
}
