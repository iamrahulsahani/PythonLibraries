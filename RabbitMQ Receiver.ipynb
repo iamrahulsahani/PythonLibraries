{
 "cells": [
  {
   "cell_type": "markdown",
   "id": "f6e5207e",
   "metadata": {},
   "source": [
    "## <center> Basic Hello World </center>"
   ]
  },
  {
   "cell_type": "code",
   "execution_count": null,
   "id": "841b3fa4",
   "metadata": {},
   "outputs": [],
   "source": [
    "import pika"
   ]
  },
  {
   "cell_type": "code",
   "execution_count": null,
   "id": "8a9b3a08",
   "metadata": {},
   "outputs": [],
   "source": [
    "connection = pika.BlockingConnection(pika.ConnectionParameters(host=\"localhost\"))"
   ]
  },
  {
   "cell_type": "code",
   "execution_count": null,
   "id": "7c764744",
   "metadata": {},
   "outputs": [],
   "source": [
    "channel = connection.channel()"
   ]
  },
  {
   "cell_type": "code",
   "execution_count": null,
   "id": "f44ffe92",
   "metadata": {},
   "outputs": [],
   "source": [
    "channel.queue_declare(queue=\"hello\")"
   ]
  },
  {
   "cell_type": "code",
   "execution_count": null,
   "id": "60ff7fc4",
   "metadata": {},
   "outputs": [],
   "source": [
    "def callback(ch, method, properties, body):\n",
    "    print(body,\"received...\")\n",
    "    "
   ]
  },
  {
   "cell_type": "code",
   "execution_count": null,
   "id": "3e29908a",
   "metadata": {},
   "outputs": [],
   "source": [
    "channel.basic_consume(queue=\"hello\", on_message_callback=callback, auto_ack=True)"
   ]
  },
  {
   "cell_type": "code",
   "execution_count": null,
   "id": "c5bdeeaa",
   "metadata": {},
   "outputs": [],
   "source": [
    "print(\"waiting for messages...\")\n",
    "channel.start_consuming()"
   ]
  },
  {
   "cell_type": "markdown",
   "id": "4c70ba75",
   "metadata": {},
   "source": [
    "## <center> Worker </center>"
   ]
  },
  {
   "cell_type": "code",
   "execution_count": null,
   "id": "5880f544",
   "metadata": {},
   "outputs": [],
   "source": [
    "import pika\n",
    "import time"
   ]
  },
  {
   "cell_type": "code",
   "execution_count": null,
   "id": "a326f8a2",
   "metadata": {},
   "outputs": [],
   "source": [
    "connection = pika.BlockingConnection(\n",
    "    pika.ConnectionParameters(host='localhost'))\n",
    "channel = connection.channel()\n",
    "\n",
    "channel.queue_declare(queue='task_queue', durable=True)\n",
    "print(' [*] Waiting for messages. To exit press CTRL+C')"
   ]
  },
  {
   "cell_type": "code",
   "execution_count": null,
   "id": "fca52e14",
   "metadata": {},
   "outputs": [],
   "source": [
    "def callback(ch, method, properties, body):\n",
    "    print(\" [x] Received %r\" % body.decode())\n",
    "    time.sleep(body.count(b'.'))\n",
    "    print(\" [x] Done\")\n",
    "    ch.basic_ack(delivery_tag=method.delivery_tag)"
   ]
  },
  {
   "cell_type": "code",
   "execution_count": null,
   "id": "08a3539c",
   "metadata": {},
   "outputs": [],
   "source": [
    "channel.basic_qos(prefetch_count=1)\n",
    "channel.basic_consume(queue='task_queue', on_message_callback=callback)\n",
    "\n",
    "channel.start_consuming()"
   ]
  },
  {
   "cell_type": "markdown",
   "id": "2bba51f9",
   "metadata": {},
   "source": [
    "## <center> Pub-Sub </center>"
   ]
  },
  {
   "cell_type": "code",
   "execution_count": null,
   "id": "a6c32c81",
   "metadata": {},
   "outputs": [],
   "source": [
    "import pika\n",
    "\n",
    "connection = pika.BlockingConnection(\n",
    "    pika.ConnectionParameters(host='localhost'))\n",
    "channel = connection.channel()\n",
    "\n",
    "channel.exchange_declare(exchange='logs', exchange_type='fanout')\n",
    "\n",
    "result = channel.queue_declare(queue='', exclusive=True)\n",
    "queue_name = result.method.queue\n",
    "\n",
    "channel.queue_bind(exchange='logs', queue=queue_name)\n",
    "\n",
    "print(' [*] Waiting for logs. To exit press CTRL+C')\n",
    "\n",
    "def callback(ch, method, properties, body):\n",
    "    print(\" [x] %r\" % body)\n",
    "\n",
    "channel.basic_consume(\n",
    "    queue=queue_name, on_message_callback=callback, auto_ack=True)\n",
    "\n",
    "channel.start_consuming()"
   ]
  },
  {
   "cell_type": "code",
   "execution_count": null,
   "id": "75f17a12",
   "metadata": {},
   "outputs": [],
   "source": []
  }
 ],
 "metadata": {
  "kernelspec": {
   "display_name": "Python 3 (ipykernel)",
   "language": "python",
   "name": "python3"
  },
  "language_info": {
   "codemirror_mode": {
    "name": "ipython",
    "version": 3
   },
   "file_extension": ".py",
   "mimetype": "text/x-python",
   "name": "python",
   "nbconvert_exporter": "python",
   "pygments_lexer": "ipython3",
   "version": "3.10.4"
  }
 },
 "nbformat": 4,
 "nbformat_minor": 5
}
