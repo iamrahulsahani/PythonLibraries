{
 "cells": [
  {
   "cell_type": "markdown",
   "id": "5e32fe17",
   "metadata": {},
   "source": [
    "# Counter"
   ]
  },
  {
   "cell_type": "code",
   "execution_count": null,
   "id": "78f546fd",
   "metadata": {},
   "outputs": [],
   "source": [
    "\"\"\"\n",
    "A Counter is a subclass of dict. Therefore it is an unordered collection where elements and their \n",
    "respective count are stored as a dictionary.\n",
    "\n",
    "class collections.Counter([iterable-or-mapping])\n",
    "\"\"\""
   ]
  },
  {
   "cell_type": "code",
   "execution_count": 14,
   "id": "ee260949",
   "metadata": {},
   "outputs": [
    {
     "name": "stdout",
     "output_type": "stream",
     "text": [
      "Counter({'B': 5, 'A': 3, 'C': 2})\n",
      "Counter({'B': 5, 'A': 3, 'C': 2})\n",
      "Counter({'B': 5, 'A': 3, 'C': 2})\n",
      "[(1, 6), (2, 2), (5, 2), (7, 2), (3, 1), (9, 1), (6, 1), (8, 1)]\n",
      "substraction: Counter({'C': 6, 'B': 0, 'A': -6})\n"
     ]
    }
   ],
   "source": [
    "from collections import Counter  \n",
    "\n",
    "# With sequence of items \n",
    "print(Counter(['B','B','A','B','C','A','B','B','A','C']))\n",
    "  \n",
    "# with dictionary\n",
    "print(Counter({'A':3, 'B':5, 'C':2}))\n",
    "  \n",
    "# with keyword arguments\n",
    "print(Counter(A=3, B=5, C=2))\n",
    "\n",
    "#finding most common\n",
    "c = Counter([2,3,5,7,9,1,1,1,1,1,1,2,5,6,7,8]) #returns list of most common elements\n",
    "print(c.most_common()) \n",
    "\n",
    "#substraction\n",
    "c1 = Counter(A=4,  B=3, C=10)\n",
    "c2 = Counter(A=10, B=3, C=4)\n",
    "c1.subtract(c2)\n",
    "print(\"substraction:\",c1)"
   ]
  },
  {
   "cell_type": "markdown",
   "id": "af3fc1b7",
   "metadata": {},
   "source": [
    "# OrderedDict"
   ]
  },
  {
   "cell_type": "code",
   "execution_count": null,
   "id": "a9980e46",
   "metadata": {},
   "outputs": [],
   "source": [
    "\"\"\"\n",
    "An OrderedDict is a dictionary subclass that remembers the order that keys were first inserted.\n",
    "The only difference between dict() and OrderedDict() is that:\n",
    "OrderedDict preserves the order in which the keys are inserted. A regular dict doesn’t track the insertion.\n",
    "\"\"\""
   ]
  },
  {
   "cell_type": "code",
   "execution_count": 18,
   "id": "538a9f0c",
   "metadata": {},
   "outputs": [
    {
     "name": "stdout",
     "output_type": "stream",
     "text": [
      "This is a Dict:\n",
      "\n",
      "{'a': 1, 'b': 2, 'c': 3, 'd': 4}\n",
      "\n",
      "This is an Ordered Dict:\n",
      "\n",
      "OrderedDict([('a', 1), ('b', 2), ('c', 3), ('d', 4)])\n"
     ]
    }
   ],
   "source": [
    "from collections import OrderedDict\n",
    " \n",
    "print(\"This is a Dict:\\n\")\n",
    "d = {}\n",
    "d['a'] = 1\n",
    "d['b'] = 2\n",
    "d['c'] = 3\n",
    "d['d'] = 4\n",
    " \n",
    "print(d)\n",
    "print(\"\\nThis is an Ordered Dict:\\n\")\n",
    "od = OrderedDict()\n",
    "od['a'] = 1\n",
    "od['b'] = 2\n",
    "od['c'] = 3\n",
    "od['d'] = 4\n",
    " \n",
    "print(od)\n",
    "\n",
    "\"\"\"\n",
    "1. Key value Change: If the value of a certain key is changed, the position of the key remains\n",
    "unchanged in OrderedDict.\n",
    "\n",
    "2. Deletion and Re-Inserting: Deleting and re-inserting the same key will push it to the back as \n",
    "OrderedDict, however, maintains the order of insertion.\n",
    "\"\"\""
   ]
  },
  {
   "cell_type": "markdown",
   "id": "7531160a",
   "metadata": {},
   "source": [
    "# DefaultDict"
   ]
  },
  {
   "cell_type": "code",
   "execution_count": null,
   "id": "c43c34e2",
   "metadata": {},
   "outputs": [],
   "source": [
    "\"\"\"\n",
    "Defaultdict is a sub-class of the dictionary class that returns a dictionary-like object. \n",
    "The functionality of both dictionaries and defaultdict are almost same except for the fact that \n",
    "defaultdict never raises a KeyError. It provides a default value for the key that does not exists.\n",
    "\"\"\""
   ]
  },
  {
   "cell_type": "code",
   "execution_count": 24,
   "id": "7bafc37e",
   "metadata": {},
   "outputs": [
    {
     "name": "stdout",
     "output_type": "stream",
     "text": [
      "-1\n",
      "defaultdict(<class 'list'>, {})\n",
      "defaultdict(<class 'list'>, {'new_list': [10]})\n"
     ]
    }
   ],
   "source": [
    "from collections import defaultdict\n",
    "\n",
    "d = defaultdict(lambda : -1) #takes function as input for setting value other than python data structure\n",
    "d['a'] = 100\n",
    "d['b'] = 200\n",
    "print(d['c'])\n",
    "\n",
    "#defaultdict with list\n",
    "d_list = defaultdict(list) #python data structure that's why funcion not needed\n",
    "print(d_list)\n",
    "d_list['new_list'].append(10)\n",
    "print(d_list)"
   ]
  },
  {
   "cell_type": "markdown",
   "id": "896a55e5",
   "metadata": {},
   "source": [
    "# ChainMap"
   ]
  },
  {
   "cell_type": "code",
   "execution_count": null,
   "id": "07a4562e",
   "metadata": {},
   "outputs": [],
   "source": [
    "\"\"\"\n",
    "Python contains a container called “ChainMap” which encapsulates many dictionaries into one unit.\n",
    "\"\"\""
   ]
  },
  {
   "cell_type": "code",
   "execution_count": 25,
   "id": "c04aa020",
   "metadata": {},
   "outputs": [
    {
     "name": "stdout",
     "output_type": "stream",
     "text": [
      "ChainMap({'a': 1, 'b': 2}, {'c': 3, 'd': 4}, {'e': 5, 'f': 6})\n"
     ]
    }
   ],
   "source": [
    "from collections import ChainMap  \n",
    "       \n",
    "       \n",
    "d1 = {'a': 1, 'b': 2} \n",
    "d2 = {'c': 3, 'd': 4} \n",
    "d3 = {'e': 5, 'f': 6} \n",
    "    \n",
    "# Defining the chainmap  \n",
    "c = ChainMap(d1, d2, d3)  \n",
    "       \n",
    "print(c)\n",
    "\n",
    "\"\"\"\n",
    "keys() :- This function is used to display all the keys of all the dictionaries in ChainMap.\n",
    "\n",
    "values() :- This function is used to display values of all the dictionaries in ChainMap.\n",
    "\n",
    "maps() :- This function is used to display keys with corresponding values of all the dictionaries in ChainMap.\n",
    "\"\"\""
   ]
  },
  {
   "cell_type": "markdown",
   "id": "6f6e6f9a",
   "metadata": {},
   "source": [
    "# Namedtuple"
   ]
  },
  {
   "cell_type": "code",
   "execution_count": null,
   "id": "18053469",
   "metadata": {},
   "outputs": [],
   "source": [
    "\"\"\"\n",
    "Python supports a type of container like dictionaries called “namedtuple()” present in the module, \n",
    "“collections“. Like dictionaries, they contain keys that are hashed to a particular value.\n",
    "But on contrary, it supports both access from key-value and iteration, the functionality that \n",
    "dictionaries lack.\n",
    "\"\"\""
   ]
  },
  {
   "cell_type": "code",
   "execution_count": 27,
   "id": "92d2c2ff",
   "metadata": {},
   "outputs": [
    {
     "name": "stdout",
     "output_type": "stream",
     "text": [
      "The Student age using index is : 19\n",
      "The Student name using keyname is : Nandini\n",
      "The Student DOB using getattr() is : 2541997\n"
     ]
    }
   ],
   "source": [
    "from collections import namedtuple\n",
    "  \n",
    "# Declaring namedtuple()\n",
    "Student = namedtuple('Student', ['name', 'age', 'DOB'])\n",
    "  \n",
    "# Adding values\n",
    "S = Student('Nandini', '19', '2541997')\n",
    "  \n",
    "# Access using index\n",
    "print(\"The Student age using index is : \", end=\"\")\n",
    "print(S[1])\n",
    "  \n",
    "# Access using name\n",
    "print(\"The Student name using keyname is : \", end=\"\")\n",
    "print(S.name)\n",
    "# Access using getattr()\n",
    "print(\"The Student DOB using getattr() is : \", end=\"\")\n",
    "print(getattr(S, 'DOB'))\n",
    "\n",
    "\"\"\"\n",
    "Access by index: The attribute values of namedtuple() are ordered and can be accessed using the index \n",
    "number unlike dictionaries which are not accessible by index.\n",
    "\n",
    "Access by keyname: Access by keyname is also allowed as in dictionaries.\n",
    "\n",
    "using getattr(): This is yet another way to access the value by giving namedtuple and key value \n",
    "as its argument.\n",
    "\"\"\""
   ]
  },
  {
   "cell_type": "markdown",
   "id": "8b2a660a",
   "metadata": {},
   "source": [
    "# Deque"
   ]
  },
  {
   "cell_type": "code",
   "execution_count": null,
   "id": "4c9f8b47",
   "metadata": {},
   "outputs": [],
   "source": [
    "\"\"\"\n",
    "Deque (Doubly Ended Queue) in Python is implemented using the module “collections“. Deque is preferred over\n",
    "a list in the cases where we need quicker append and pop operations from both the ends of the container,\n",
    "as deque provides an O(1) time complexity for append and pop operations as compared to a list that provides\n",
    "O(n) time complexity.\n",
    "\"\"\""
   ]
  },
  {
   "cell_type": "code",
   "execution_count": 28,
   "id": "10aab277",
   "metadata": {},
   "outputs": [
    {
     "name": "stdout",
     "output_type": "stream",
     "text": [
      "deque(['name', 'age', 'DOB'])\n"
     ]
    }
   ],
   "source": [
    "from collections import deque\n",
    "     \n",
    "# Declaring deque\n",
    "queue = deque(['name','age','DOB']) \n",
    "     \n",
    "print(queue)"
   ]
  },
  {
   "cell_type": "code",
   "execution_count": 29,
   "id": "7cf8962b",
   "metadata": {},
   "outputs": [
    {
     "name": "stdout",
     "output_type": "stream",
     "text": [
      "deque:  deque([1, 2, 3])\n",
      "\n",
      "The deque after appending at right is : \n",
      "deque([1, 2, 3, 4])\n",
      "\n",
      "The deque after appending at left is : \n",
      "deque([6, 1, 2, 3, 4])\n"
     ]
    }
   ],
   "source": [
    "\"\"\"\n",
    "Example 1: Appending Items Efficiently\n",
    "append():- This function is used to insert the value in its argument to the right end of the deque.\n",
    "appendleft():- This function is used to insert the value in its argument to the left end of the deque.\n",
    "\"\"\"\n",
    "\n",
    "import collections\n",
    " \n",
    "# initializing deque\n",
    "de = collections.deque([1, 2, 3])\n",
    "print(\"deque: \", de)\n",
    " \n",
    "# using append() to insert element at right end\n",
    "# inserts 4 at the end of deque\n",
    "de.append(4)\n",
    " \n",
    "# printing modified deque\n",
    "print(\"\\nThe deque after appending at right is : \")\n",
    "print(de)\n",
    " \n",
    "# using appendleft() to insert element at left end\n",
    "# inserts 6 at the beginning of deque\n",
    "de.appendleft(6)\n",
    " \n",
    "# printing modified deque\n",
    "print(\"\\nThe deque after appending at left is : \")\n",
    "print(de)"
   ]
  },
  {
   "cell_type": "code",
   "execution_count": 30,
   "id": "fa44f15b",
   "metadata": {},
   "outputs": [
    {
     "name": "stdout",
     "output_type": "stream",
     "text": [
      "deque:  deque([1, 2, 3])\n",
      "\n",
      "The deque after deleting from right is : \n",
      "deque([1, 2])\n",
      "\n",
      "The deque after deleting from left is : \n",
      "deque([2])\n"
     ]
    }
   ],
   "source": [
    "\"\"\"\n",
    "Example 2: Popping Items Efficiently\n",
    "pop():- This function is used to delete an argument from the right end of the deque.\n",
    "popleft():- This function is used to delete an argument from the left end of the deque.\n",
    "\"\"\"\n",
    "\n",
    "import collections\n",
    " \n",
    "# initializing deque\n",
    "de = collections.deque([1, 2, 3])\n",
    "print(\"deque: \", de)\n",
    " \n",
    "# using pop() to delete element from right end\n",
    "# deletes 4 from the right end of deque\n",
    "de.pop()\n",
    " \n",
    "# printing modified deque\n",
    "print(\"\\nThe deque after deleting from right is : \")\n",
    "print(de)\n",
    " \n",
    "# using popleft() to delete element from left end\n",
    "# deletes 6 from the left end of deque\n",
    "de.popleft()\n",
    " \n",
    "# printing modified deque\n",
    "print(\"\\nThe deque after deleting from left is : \")\n",
    "print(de)"
   ]
  },
  {
   "cell_type": "code",
   "execution_count": 31,
   "id": "e91b312a",
   "metadata": {},
   "outputs": [
    {
     "name": "stdout",
     "output_type": "stream",
     "text": [
      "The number 4 first occurs at a position : \n",
      "4\n",
      "The deque after inserting 3 at 5th position is : \n",
      "deque([1, 2, 3, 3, 3, 4, 2, 4])\n",
      "The count of 3 in deque is : \n",
      "3\n",
      "The deque after deleting first occurrence of 3 is : \n",
      "deque([1, 2, 3, 3, 4, 2, 4])\n"
     ]
    }
   ],
   "source": [
    "\"\"\"\n",
    "Example 3: Accessing Items in a deque\n",
    "\n",
    "index(ele, beg, end):- This function returns the first index of the value mentioned in arguments, \n",
    "starting searching from beg till end index.\n",
    "\n",
    "insert(i, a) :- This function inserts the value mentioned in arguments(a) at index(i) specified in \n",
    "arguments.\n",
    "\n",
    "remove():- This function removes the first occurrence of the value mentioned in arguments.\n",
    "\n",
    "count():- This function counts the number of occurrences of value mentioned in arguments.\n",
    "\"\"\"\n",
    "\n",
    "import collections\n",
    " \n",
    "# initializing deque\n",
    "de = collections.deque([1, 2, 3, 3, 4, 2, 4])\n",
    " \n",
    "# using index() to print the first occurrence of 4\n",
    "print (\"The number 4 first occurs at a position : \")\n",
    "print (de.index(4,2,5))\n",
    " \n",
    "# using insert() to insert the value 3 at 5th position\n",
    "de.insert(4,3)\n",
    " \n",
    "# printing modified deque\n",
    "print (\"The deque after inserting 3 at 5th position is : \")\n",
    "print (de)\n",
    " \n",
    "# using count() to count the occurrences of 3\n",
    "print (\"The count of 3 in deque is : \")\n",
    "print (de.count(3))\n",
    " \n",
    "# using remove() to remove the first occurrence of 3\n",
    "de.remove(3)\n",
    " \n",
    "# printing modified deque\n",
    "print (\"The deque after deleting first occurrence of 3 is : \")\n",
    "print (de)"
   ]
  },
  {
   "cell_type": "code",
   "execution_count": 32,
   "id": "703cb961",
   "metadata": {},
   "outputs": [
    {
     "name": "stdout",
     "output_type": "stream",
     "text": [
      "The deque after extending deque at end is : \n",
      "deque([1, 2, 3, 4, 5, 6])\n",
      "The deque after extending deque at beginning is : \n",
      "deque([9, 8, 7, 1, 2, 3, 4, 5, 6])\n",
      "The deque after rotating deque is : \n",
      "deque([1, 2, 3, 4, 5, 6, 9, 8, 7])\n",
      "The deque after reversing deque is : \n",
      "deque([7, 8, 9, 6, 5, 4, 3, 2, 1])\n"
     ]
    }
   ],
   "source": [
    "\"\"\"\n",
    "Example 4: Different operations on deque.\n",
    "\n",
    "extend(iterable):- This function is used to add multiple values at the right end of the deque. \n",
    "The argument passed is iterable.\n",
    "\n",
    "extendleft(iterable):- This function is used to add multiple values at the left end of the deque. \n",
    "The argument passed is iterable. Order is reversed as a result of left appends.\n",
    "\n",
    "reverse():- This function is used to reverse the order of deque elements.\n",
    "\n",
    "rotate():- This function rotates the deque by the number specified in arguments. If the number specified is negative, rotation occurs to the left. Else rotation is to right.\n",
    "\"\"\"\n",
    "\n",
    "import collections\n",
    " \n",
    "# initializing deque\n",
    "de = collections.deque([1, 2, 3,])\n",
    " \n",
    "# using extend() to add numbers to right end\n",
    "# adds 4,5,6 to right end\n",
    "de.extend([4,5,6])\n",
    " \n",
    "# printing modified deque\n",
    "print (\"The deque after extending deque at end is : \")\n",
    "print (de)\n",
    " \n",
    "# using extendleft() to add numbers to left end\n",
    "# adds 7,8,9 to left end\n",
    "de.extendleft([7,8,9])\n",
    " \n",
    "# printing modified deque\n",
    "print (\"The deque after extending deque at beginning is : \")\n",
    "print (de)\n",
    " \n",
    "# using rotate() to rotate the deque\n",
    "# rotates by 3 to left\n",
    "de.rotate(-3)\n",
    " \n",
    "# printing modified deque\n",
    "print (\"The deque after rotating deque is : \")\n",
    "print (de)\n",
    " \n",
    "# using reverse() to reverse the deque\n",
    "de.reverse()\n",
    " \n",
    "# printing modified deque\n",
    "print (\"The deque after reversing deque is : \")\n",
    "print (de)"
   ]
  },
  {
   "cell_type": "markdown",
   "id": "90a7ad5c",
   "metadata": {},
   "source": [
    "# Heap"
   ]
  },
  {
   "cell_type": "code",
   "execution_count": null,
   "id": "cbb588e2",
   "metadata": {},
   "outputs": [],
   "source": [
    "\"\"\"\n",
    "Heap data structure is mainly used to represent a priority queue. In Python, it is available using the\n",
    "“heapq” module. The property of this data structure in Python is that each time the smallest heap element\n",
    "is popped(min-heap). Whenever elements are pushed or popped, heap structure is maintained. The heap[0] \n",
    "element also returns the smallest element each time. Let’s see various Operations on the heap in Python.\n",
    "\"\"\""
   ]
  },
  {
   "cell_type": "code",
   "execution_count": 33,
   "id": "66227d65",
   "metadata": {},
   "outputs": [
    {
     "name": "stdout",
     "output_type": "stream",
     "text": [
      "The created heap is :  [1, 3, 9, 7, 5]\n"
     ]
    }
   ],
   "source": [
    "\"\"\"\n",
    "The heapify(iterable):- This function is used to convert the iterable into a heap data structure.\n",
    "i.e. in heap order.\n",
    "\"\"\"\n",
    "import heapq\n",
    " \n",
    "# initializing list\n",
    "li = [5, 7, 9, 1, 3]\n",
    " \n",
    "# using heapify to convert list into heap\n",
    "heapq.heapify(li)\n",
    " \n",
    "# printing created heap\n",
    "print (\"The created heap is : \",(list(li)))"
   ]
  },
  {
   "cell_type": "code",
   "execution_count": 34,
   "id": "b343614e",
   "metadata": {},
   "outputs": [
    {
     "name": "stdout",
     "output_type": "stream",
     "text": [
      "The created heap is : [1, 3, 9, 7, 5]\n",
      "The modified heap after push is : [1, 3, 4, 7, 5, 9]\n",
      "The popped and smallest element is : 1\n"
     ]
    }
   ],
   "source": [
    "\"\"\"\n",
    "Appending and Popping Items Efficiently.\n",
    "\n",
    "heappush(heap, ele): This function is used to insert the element mentioned in its arguments into a heap.\n",
    "The order is adjusted, so that heap structure is maintained.\n",
    "\n",
    "heappop(heap): This function is used to remove and return the smallest element from the heap. \n",
    "The order is adjusted, so that heap structure is maintained.\n",
    "\"\"\"\n",
    "\n",
    "import heapq\n",
    " \n",
    "# initializing list\n",
    "li = [5, 7, 9, 1, 3]\n",
    " \n",
    "# using heapify to convert list into heap\n",
    "heapq.heapify(li)\n",
    " \n",
    "# printing created heap\n",
    "print(\"The created heap is : \", end=\"\")\n",
    "print(list(li))\n",
    " \n",
    "# using heappush() to push elements into heap\n",
    "# pushes 4\n",
    "heapq.heappush(li, 4)\n",
    " \n",
    "# printing modified heap\n",
    "print(\"The modified heap after push is : \", end=\"\")\n",
    "print(list(li))\n",
    " \n",
    "# using heappop() to pop smallest element\n",
    "print(\"The popped and smallest element is : \", end=\"\")\n",
    "print(heapq.heappop(li))"
   ]
  },
  {
   "cell_type": "code",
   "execution_count": 35,
   "id": "a143c3b4",
   "metadata": {},
   "outputs": [
    {
     "name": "stdout",
     "output_type": "stream",
     "text": [
      "The popped item using heappushpop() is : 1\n",
      "The popped item using heapreplace() is : 3\n"
     ]
    }
   ],
   "source": [
    "\"\"\"\n",
    "Appending and Popping simultaneously.\n",
    "\n",
    "heappushpop(heap, ele):- This function combines the functioning of both push and pop operations in one \n",
    "statement, increasing efficiency. Heap order is maintained after this operation.\n",
    "\n",
    "heapreplace(heap, ele):- This function also inserts and pops elements in one statement, but it is\n",
    "different from the above function. In this, the element is first popped, then the element is pushed. \n",
    "i.e, the value larger than the pushed value can be returned. heapreplace() returns the smallest value originally in the heap regardless of the pushed element as opposed to heappushpop().\n",
    "\"\"\"\n",
    "\n",
    "import heapq\n",
    " \n",
    "# initializing list 1\n",
    "li1 = [5, 1, 9, 4, 3]\n",
    " \n",
    "# initializing list 2\n",
    "li2 = [5, 7, 9, 4, 3]\n",
    " \n",
    "# using heapify() to convert list into heap\n",
    "heapq.heapify(li1)\n",
    "heapq.heapify(li2)\n",
    " \n",
    "# using heappushpop() to push and pop items simultaneously\n",
    "# pops 2\n",
    "print(\"The popped item using heappushpop() is : \", end=\"\")\n",
    "print(heapq.heappushpop(li1, 2))\n",
    " \n",
    "# using heapreplace() to push and pop items simultaneously\n",
    "# pops 3\n",
    "print(\"The popped item using heapreplace() is : \", end=\"\")\n",
    "print(heapq.heapreplace(li2, 2))"
   ]
  },
  {
   "cell_type": "code",
   "execution_count": 36,
   "id": "8e7d56a7",
   "metadata": {},
   "outputs": [
    {
     "name": "stdout",
     "output_type": "stream",
     "text": [
      "The 3 largest numbers in list are : [10, 9, 8]\n",
      "The 3 smallest numbers in list are : [1, 3, 4]\n"
     ]
    }
   ],
   "source": [
    "\"\"\"\n",
    "Find the largest and smallest elements from Heap in Python.\n",
    "\n",
    "nlargest(k, iterable, key = fun): This function is used to return the k largest elements from the iterable\n",
    "specified and satisfy the key if mentioned.\n",
    "\n",
    "nsmallest(k, iterable, key = fun): This function is used to return the k smallest elements from the \n",
    "iterable specified and satisfy the key if mentioned.\n",
    "\"\"\"\n",
    "\n",
    "import heapq\n",
    " \n",
    "# initializing list\n",
    "li1 = [6, 7, 9, 4, 3, 5, 8, 10, 1]\n",
    " \n",
    "# using heapify() to convert list into heap\n",
    "heapq.heapify(li1)\n",
    " \n",
    "# using nlargest to print 3 largest numbers\n",
    "# prints 10, 9 and 8\n",
    "print(\"The 3 largest numbers in list are : \", end=\"\")\n",
    "print(heapq.nlargest(3, li1))\n",
    " \n",
    "# using nsmallest to print 3 smallest numbers\n",
    "# prints 1, 3 and 4\n",
    "print(\"The 3 smallest numbers in list are : \", end=\"\")\n",
    "print(heapq.nsmallest(3, li1))"
   ]
  },
  {
   "cell_type": "code",
   "execution_count": null,
   "id": "526355f8",
   "metadata": {},
   "outputs": [],
   "source": []
  }
 ],
 "metadata": {
  "kernelspec": {
   "display_name": "Python 3 (ipykernel)",
   "language": "python",
   "name": "python3"
  },
  "language_info": {
   "codemirror_mode": {
    "name": "ipython",
    "version": 3
   },
   "file_extension": ".py",
   "mimetype": "text/x-python",
   "name": "python",
   "nbconvert_exporter": "python",
   "pygments_lexer": "ipython3",
   "version": "3.10.4"
  }
 },
 "nbformat": 4,
 "nbformat_minor": 5
}
