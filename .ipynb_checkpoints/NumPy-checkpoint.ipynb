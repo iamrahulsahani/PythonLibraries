{
 "cells": [
  {
   "cell_type": "markdown",
   "id": "93c6b9e2",
   "metadata": {},
   "source": [
    "# <center> Numpy </center>"
   ]
  },
  {
   "cell_type": "code",
   "execution_count": 2,
   "id": "9c1a80c8",
   "metadata": {},
   "outputs": [],
   "source": [
    "import numpy as np"
   ]
  },
  {
   "cell_type": "markdown",
   "id": "5eaad148",
   "metadata": {},
   "source": [
    "# List vs Numpy Array"
   ]
  },
  {
   "cell_type": "code",
   "execution_count": 4,
   "id": "5be99216",
   "metadata": {},
   "outputs": [
    {
     "name": "stdout",
     "output_type": "stream",
     "text": [
      "4.73 µs ± 109 ns per loop (mean ± std. dev. of 7 runs, 100,000 loops each)\n"
     ]
    }
   ],
   "source": [
    "%timeit [x ** 4 for x in range(1, 10)]"
   ]
  },
  {
   "cell_type": "code",
   "execution_count": 8,
   "id": "ee553eb6",
   "metadata": {},
   "outputs": [
    {
     "name": "stdout",
     "output_type": "stream",
     "text": [
      "3.93 µs ± 317 ns per loop (mean ± std. dev. of 7 runs, 100,000 loops each)\n"
     ]
    }
   ],
   "source": [
    "%timeit np.arange(1,10) ** 4"
   ]
  },
  {
   "cell_type": "markdown",
   "id": "f6818e7f",
   "metadata": {},
   "source": [
    "# Creating Arrays"
   ]
  },
  {
   "cell_type": "code",
   "execution_count": 11,
   "id": "9bb40aa7",
   "metadata": {},
   "outputs": [
    {
     "data": {
      "text/plain": [
       "array([1, 2, 3, 4, 5])"
      ]
     },
     "execution_count": 11,
     "metadata": {},
     "output_type": "execute_result"
    }
   ],
   "source": [
    "arr = np.array([1,2,3,4,5])\n",
    "arr"
   ]
  },
  {
   "cell_type": "markdown",
   "id": "98ad5720",
   "metadata": {},
   "source": [
    "# Checking dimension of Array"
   ]
  },
  {
   "cell_type": "code",
   "execution_count": 12,
   "id": "96b0d9d3",
   "metadata": {},
   "outputs": [
    {
     "data": {
      "text/plain": [
       "1"
      ]
     },
     "execution_count": 12,
     "metadata": {},
     "output_type": "execute_result"
    }
   ],
   "source": [
    "arr.ndim"
   ]
  },
  {
   "cell_type": "markdown",
   "id": "99979a3c",
   "metadata": {},
   "source": [
    "# Creating 2D Array"
   ]
  },
  {
   "cell_type": "code",
   "execution_count": 17,
   "id": "b8667e65",
   "metadata": {},
   "outputs": [
    {
     "data": {
      "text/plain": [
       "array([[1, 2, 3, 4],\n",
       "       [5, 6, 7, 8]])"
      ]
     },
     "execution_count": 17,
     "metadata": {},
     "output_type": "execute_result"
    }
   ],
   "source": [
    "arr = np.array([[1,2,3,4], [5,6,7,8]])\n",
    "arr"
   ]
  },
  {
   "cell_type": "markdown",
   "id": "08140764",
   "metadata": {},
   "source": [
    "# Creating 3D Array"
   ]
  },
  {
   "cell_type": "code",
   "execution_count": 18,
   "id": "690f7156",
   "metadata": {},
   "outputs": [
    {
     "data": {
      "text/plain": [
       "array([[[1, 2, 3, 4],\n",
       "        [1, 2, 3, 4],\n",
       "        [1, 2, 3, 4]]])"
      ]
     },
     "execution_count": 18,
     "metadata": {},
     "output_type": "execute_result"
    }
   ],
   "source": [
    "arr = np.array([[[1,2,3,4], [1,2,3,4], [1,2,3,4]]])\n",
    "arr"
   ]
  },
  {
   "cell_type": "markdown",
   "id": "a78d6a28",
   "metadata": {},
   "source": [
    "# Creating nD Array"
   ]
  },
  {
   "cell_type": "code",
   "execution_count": 20,
   "id": "e10b7f92",
   "metadata": {},
   "outputs": [
    {
     "data": {
      "text/plain": [
       "array([[[[[[[[[[1, 2, 3, 4]]]]]]]]]])"
      ]
     },
     "execution_count": 20,
     "metadata": {},
     "output_type": "execute_result"
    }
   ],
   "source": [
    "n = 10\n",
    "arr = np.array([1,2,3,4], ndmin = n)\n",
    "arr"
   ]
  },
  {
   "cell_type": "markdown",
   "id": "08cd784b",
   "metadata": {},
   "source": [
    "# Indexing"
   ]
  },
  {
   "cell_type": "code",
   "execution_count": 7,
   "id": "7ce42e04",
   "metadata": {},
   "outputs": [
    {
     "name": "stdout",
     "output_type": "stream",
     "text": [
      "4\n",
      "7\n",
      "9\n"
     ]
    }
   ],
   "source": [
    "arr = np.array([1,2,3,4,5])\n",
    "print(arr[3])\n",
    "\n",
    "arr = np.array([[1,2,3,4], [5,6,7,8]])\n",
    "print(arr[1, 2])\n",
    "\n",
    "arr = np.array([[[1, 2, 3], [4, 5, 6]], [[7, 8, 9], [10, 11, 12]]])\n",
    "arr\n",
    "print(arr[1, 0, 2])"
   ]
  },
  {
   "cell_type": "markdown",
   "id": "c759e5b2",
   "metadata": {},
   "source": [
    "# Slicing"
   ]
  },
  {
   "cell_type": "code",
   "execution_count": 10,
   "id": "2c48a628",
   "metadata": {},
   "outputs": [
    {
     "name": "stdout",
     "output_type": "stream",
     "text": [
      "[4 5]\n",
      "[6 7]\n",
      "[7 8]\n"
     ]
    }
   ],
   "source": [
    "arr = np.array([1,2,3,4,5])\n",
    "print(arr[3:])\n",
    "\n",
    "arr = np.array([[1,2,3,4], [5,6,7,8]])\n",
    "print(arr[1, 1:3])\n",
    "\n",
    "arr = np.array([[[1, 2, 3], [4, 5, 6]], [[7, 8, 9], [10, 11, 12]]])\n",
    "arr\n",
    "print(arr[1, 0, 0:2])"
   ]
  },
  {
   "cell_type": "markdown",
   "id": "86dac2a9",
   "metadata": {},
   "source": [
    "# Data Type"
   ]
  },
  {
   "cell_type": "code",
   "execution_count": 13,
   "id": "1ab6ba7f",
   "metadata": {},
   "outputs": [
    {
     "name": "stdout",
     "output_type": "stream",
     "text": [
      "int32\n"
     ]
    }
   ],
   "source": [
    "\"\"\"\n",
    "i - integer\n",
    "b - boolean\n",
    "u - unsigned integer\n",
    "f - float\n",
    "c - complex float\n",
    "m - timedelta\n",
    "M - datetime\n",
    "O - object\n",
    "S - string\n",
    "U - unicode string\n",
    "V - fixed chunk of memory for other type ( void )\n",
    "\"\"\"\n",
    "\n",
    "arr = np.array([1, 2, 3, 4])\n",
    "print(arr.dtype)"
   ]
  },
  {
   "cell_type": "markdown",
   "id": "da2e36cc",
   "metadata": {},
   "source": [
    "## Creating Arrays With a Defined Data Type"
   ]
  },
  {
   "cell_type": "code",
   "execution_count": 15,
   "id": "9b7486b8",
   "metadata": {},
   "outputs": [
    {
     "name": "stdout",
     "output_type": "stream",
     "text": [
      "[b'1' b'2' b'3' b'4']\n",
      "|S1\n"
     ]
    }
   ],
   "source": [
    "arr = np.array([1, 2, 3, 4], dtype='S')\n",
    "\n",
    "print(arr)\n",
    "print(arr.dtype)"
   ]
  },
  {
   "cell_type": "markdown",
   "id": "d3a4879a",
   "metadata": {},
   "source": [
    "## Converting Data Type on Existing Arrays"
   ]
  },
  {
   "cell_type": "code",
   "execution_count": 16,
   "id": "18489b5d",
   "metadata": {},
   "outputs": [
    {
     "name": "stdout",
     "output_type": "stream",
     "text": [
      "[1 2 3]\n",
      "int32\n"
     ]
    }
   ],
   "source": [
    "arr = np.array([1.1, 2.1, 3.1])\n",
    "\n",
    "newarr = arr.astype('i')\n",
    "#OR newarr = arr.astype(int)\n",
    "\n",
    "print(newarr)\n",
    "print(newarr.dtype)"
   ]
  },
  {
   "cell_type": "code",
   "execution_count": null,
   "id": "b2a2d0a8",
   "metadata": {},
   "outputs": [],
   "source": []
  },
  {
   "cell_type": "markdown",
   "id": "7fe7e206",
   "metadata": {},
   "source": [
    "# <center> Special NumPy Arrays </center>"
   ]
  },
  {
   "cell_type": "markdown",
   "id": "96347b22",
   "metadata": {},
   "source": [
    "# Array filled with 0's"
   ]
  },
  {
   "cell_type": "code",
   "execution_count": 7,
   "id": "0c1db5a3",
   "metadata": {},
   "outputs": [
    {
     "name": "stdout",
     "output_type": "stream",
     "text": [
      "[0. 0. 0. 0.]\n"
     ]
    },
    {
     "data": {
      "text/plain": [
       "array([[0., 0., 0., 0.],\n",
       "       [0., 0., 0., 0.],\n",
       "       [0., 0., 0., 0.]])"
      ]
     },
     "execution_count": 7,
     "metadata": {},
     "output_type": "execute_result"
    }
   ],
   "source": [
    "#1D\n",
    "arr = np.zeros(4)\n",
    "print(arr)\n",
    "\n",
    "#2D (3x4)\n",
    "arr = np.zeros( (3,4) )\n",
    "arr"
   ]
  },
  {
   "cell_type": "markdown",
   "id": "1da26910",
   "metadata": {},
   "source": [
    "# Array filled with 1's"
   ]
  },
  {
   "cell_type": "code",
   "execution_count": 12,
   "id": "217292d8",
   "metadata": {},
   "outputs": [
    {
     "name": "stdout",
     "output_type": "stream",
     "text": [
      "[1. 1. 1. 1.]\n"
     ]
    },
    {
     "data": {
      "text/plain": [
       "array([[1., 1., 1., 1.],\n",
       "       [1., 1., 1., 1.],\n",
       "       [1., 1., 1., 1.]])"
      ]
     },
     "execution_count": 12,
     "metadata": {},
     "output_type": "execute_result"
    }
   ],
   "source": [
    "#1D\n",
    "arr = np.ones(4)\n",
    "print(arr)\n",
    "\n",
    "#2D (3x4)\n",
    "arr = np.ones((3,4))\n",
    "arr"
   ]
  },
  {
   "cell_type": "markdown",
   "id": "63c05812",
   "metadata": {},
   "source": [
    "# Create an empty array"
   ]
  },
  {
   "cell_type": "code",
   "execution_count": 14,
   "id": "bc6d8489",
   "metadata": {},
   "outputs": [
    {
     "data": {
      "text/plain": [
       "array([1., 1., 1., 1.])"
      ]
     },
     "execution_count": 14,
     "metadata": {},
     "output_type": "execute_result"
    }
   ],
   "source": [
    "arr = np.empty(4)\n",
    "arr\n",
    "\n",
    "# Note : When we create empty array, it takes the previous values from array."
   ]
  },
  {
   "cell_type": "markdown",
   "id": "60c295bd",
   "metadata": {},
   "source": [
    "# An array with a range of elements"
   ]
  },
  {
   "cell_type": "code",
   "execution_count": 16,
   "id": "b5eeeab3",
   "metadata": {},
   "outputs": [
    {
     "data": {
      "text/plain": [
       "array([0, 1, 2, 3])"
      ]
     },
     "execution_count": 16,
     "metadata": {},
     "output_type": "execute_result"
    }
   ],
   "source": [
    "arr = np.arange(4)\n",
    "arr"
   ]
  },
  {
   "cell_type": "markdown",
   "id": "5bd8a76e",
   "metadata": {},
   "source": [
    "# Array diagonal elements filled with 1's"
   ]
  },
  {
   "cell_type": "code",
   "execution_count": 21,
   "id": "57d717cd",
   "metadata": {},
   "outputs": [
    {
     "name": "stdout",
     "output_type": "stream",
     "text": [
      "[[1. 0. 0.]\n",
      " [0. 1. 0.]\n",
      " [0. 0. 1.]]\n"
     ]
    },
    {
     "data": {
      "text/plain": [
       "array([[1., 0., 0., 0., 0.],\n",
       "       [0., 1., 0., 0., 0.],\n",
       "       [0., 0., 1., 0., 0.]])"
      ]
     },
     "execution_count": 21,
     "metadata": {},
     "output_type": "execute_result"
    }
   ],
   "source": [
    "arr = np.eye(3)\n",
    "print(arr)\n",
    "\n",
    "#3x4 matrix\n",
    "arr = np.eye(3, 5)\n",
    "arr\n",
    "\n",
    "# Note : works on square matrix"
   ]
  },
  {
   "cell_type": "markdown",
   "id": "0057e963",
   "metadata": {},
   "source": [
    "# Arrays with values that are spaced lineraly in a specified interval"
   ]
  },
  {
   "cell_type": "code",
   "execution_count": 22,
   "id": "5418b2e4",
   "metadata": {},
   "outputs": [
    {
     "data": {
      "text/plain": [
       "array([ 0. ,  2.5,  5. ,  7.5, 10. ])"
      ]
     },
     "execution_count": 22,
     "metadata": {},
     "output_type": "execute_result"
    }
   ],
   "source": [
    "arr = np.linspace(0, 10, num = 5)\n",
    "arr"
   ]
  },
  {
   "cell_type": "code",
   "execution_count": null,
   "id": "fe01f56f",
   "metadata": {},
   "outputs": [],
   "source": []
  }
 ],
 "metadata": {
  "kernelspec": {
   "display_name": "Python 3 (ipykernel)",
   "language": "python",
   "name": "python3"
  },
  "language_info": {
   "codemirror_mode": {
    "name": "ipython",
    "version": 3
   },
   "file_extension": ".py",
   "mimetype": "text/x-python",
   "name": "python",
   "nbconvert_exporter": "python",
   "pygments_lexer": "ipython3",
   "version": "3.10.4"
  }
 },
 "nbformat": 4,
 "nbformat_minor": 5
}
