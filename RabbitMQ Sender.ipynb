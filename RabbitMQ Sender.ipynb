{
 "cells": [
  {
   "cell_type": "markdown",
   "id": "6b0384ac",
   "metadata": {},
   "source": [
    "## <center> Basic Hello World </center>"
   ]
  },
  {
   "cell_type": "code",
   "execution_count": 22,
   "id": "b508c398",
   "metadata": {},
   "outputs": [],
   "source": [
    "import pika"
   ]
  },
  {
   "cell_type": "code",
   "execution_count": 17,
   "id": "0cbc889f",
   "metadata": {},
   "outputs": [],
   "source": [
    "connection = pika.BlockingConnection(pika.ConnectionParameters(host=\"localhost\"))"
   ]
  },
  {
   "cell_type": "code",
   "execution_count": 18,
   "id": "0e9af231",
   "metadata": {},
   "outputs": [],
   "source": [
    "channel = connection.channel()"
   ]
  },
  {
   "cell_type": "code",
   "execution_count": 19,
   "id": "b2240b36",
   "metadata": {},
   "outputs": [
    {
     "data": {
      "text/plain": [
       "<METHOD(['channel_number=1', 'frame_type=1', \"method=<Queue.DeclareOk(['consumer_count=1', 'message_count=0', 'queue=hello'])>\"])>"
      ]
     },
     "execution_count": 19,
     "metadata": {},
     "output_type": "execute_result"
    }
   ],
   "source": [
    "channel.queue_declare(queue=\"hello\")"
   ]
  },
  {
   "cell_type": "code",
   "execution_count": 20,
   "id": "5d68f72f",
   "metadata": {},
   "outputs": [
    {
     "name": "stdout",
     "output_type": "stream",
     "text": [
      "sent...\n"
     ]
    }
   ],
   "source": [
    "channel.basic_publish(exchange=\"\", routing_key=\"hello\", body=\"hello world 123\")\n",
    "print(\"sent...\")"
   ]
  },
  {
   "cell_type": "code",
   "execution_count": 21,
   "id": "d12d0c60",
   "metadata": {},
   "outputs": [],
   "source": [
    "connection.close()"
   ]
  },
  {
   "cell_type": "markdown",
   "id": "eb5c55e6",
   "metadata": {},
   "source": [
    "## <center> Worker </center>"
   ]
  },
  {
   "cell_type": "code",
   "execution_count": 26,
   "id": "ce3aa86b",
   "metadata": {},
   "outputs": [
    {
     "name": "stdout",
     "output_type": "stream",
     "text": [
      " [x] Sent '-f C:\\\\Users\\\\HP\\\\AppData\\\\Roaming\\\\jupyter\\\\runtime\\\\kernel-eb73b757-32db-4c15-9a49-5d0847ed38be.json'\n"
     ]
    }
   ],
   "source": [
    "import pika\n",
    "import time\n",
    "import sys"
   ]
  },
  {
   "cell_type": "code",
   "execution_count": 27,
   "id": "39a21000",
   "metadata": {},
   "outputs": [
    {
     "data": {
      "text/plain": [
       "<METHOD(['channel_number=1', 'frame_type=1', \"method=<Queue.DeclareOk(['consumer_count=0', 'message_count=0', 'queue=task_queue'])>\"])>"
      ]
     },
     "execution_count": 27,
     "metadata": {},
     "output_type": "execute_result"
    }
   ],
   "source": [
    "connection = pika.BlockingConnection(\n",
    "    pika.ConnectionParameters(host='localhost'))\n",
    "channel = connection.channel()\n",
    "\n",
    "channel.queue_declare(queue='task_queue', durable=True)"
   ]
  },
  {
   "cell_type": "code",
   "execution_count": 28,
   "id": "08997176",
   "metadata": {},
   "outputs": [
    {
     "name": "stdout",
     "output_type": "stream",
     "text": [
      " [x] Sent '-f C:\\\\Users\\\\HP\\\\AppData\\\\Roaming\\\\jupyter\\\\runtime\\\\kernel-eb73b757-32db-4c15-9a49-5d0847ed38be.json'\n"
     ]
    }
   ],
   "source": [
    "message = ' '.join(sys.argv[1:]) or \"Hello World!\"\n",
    "channel.basic_publish(\n",
    "    exchange='',\n",
    "    routing_key='task_queue',\n",
    "    body=message,\n",
    "    properties=pika.BasicProperties(\n",
    "        delivery_mode=2,  # make message persistent\n",
    "    ))\n",
    "print(\" [x] Sent %r\" % message)\n",
    "connection.close()"
   ]
  },
  {
   "cell_type": "markdown",
   "id": "a5463088",
   "metadata": {},
   "source": [
    "## <center> Pub-Sub </center>"
   ]
  },
  {
   "cell_type": "code",
   "execution_count": 31,
   "id": "6d86ceca",
   "metadata": {},
   "outputs": [
    {
     "name": "stdout",
     "output_type": "stream",
     "text": [
      " [x] Sent '-f C:\\\\Users\\\\HP\\\\AppData\\\\Roaming\\\\jupyter\\\\runtime\\\\kernel-eb73b757-32db-4c15-9a49-5d0847ed38be.json'\n"
     ]
    }
   ],
   "source": [
    "import pika\n",
    "import sys\n",
    "\n",
    "connection = pika.BlockingConnection(\n",
    "    pika.ConnectionParameters(host='localhost'))\n",
    "channel = connection.channel()\n",
    "\n",
    "channel.exchange_declare(exchange='logs', exchange_type='fanout')\n",
    "\n",
    "message = ' '.join(sys.argv[1:]) or \"info: Hello World!\"\n",
    "channel.basic_publish(exchange='logs', routing_key='', body=message)\n",
    "print(\" [x] Sent %r\" % message)\n",
    "connection.close()"
   ]
  },
  {
   "cell_type": "code",
   "execution_count": null,
   "id": "3f7391bb",
   "metadata": {},
   "outputs": [],
   "source": []
  }
 ],
 "metadata": {
  "kernelspec": {
   "display_name": "Python 3 (ipykernel)",
   "language": "python",
   "name": "python3"
  },
  "language_info": {
   "codemirror_mode": {
    "name": "ipython",
    "version": 3
   },
   "file_extension": ".py",
   "mimetype": "text/x-python",
   "name": "python",
   "nbconvert_exporter": "python",
   "pygments_lexer": "ipython3",
   "version": "3.10.4"
  }
 },
 "nbformat": 4,
 "nbformat_minor": 5
}
