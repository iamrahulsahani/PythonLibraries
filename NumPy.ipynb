{
 "cells": [
  {
   "cell_type": "markdown",
   "id": "93c6b9e2",
   "metadata": {},
   "source": [
    "# <center> Numpy </center>"
   ]
  },
  {
   "cell_type": "code",
   "execution_count": 5,
   "id": "9c1a80c8",
   "metadata": {},
   "outputs": [],
   "source": [
    "import numpy as np"
   ]
  },
  {
   "cell_type": "code",
   "execution_count": 4,
   "id": "5be99216",
   "metadata": {},
   "outputs": [
    {
     "name": "stdout",
     "output_type": "stream",
     "text": [
      "4.73 µs ± 109 ns per loop (mean ± std. dev. of 7 runs, 100,000 loops each)\n"
     ]
    }
   ],
   "source": [
    "%timeit [x ** 4 for x in range(1, 10)]"
   ]
  },
  {
   "cell_type": "code",
   "execution_count": 8,
   "id": "ee553eb6",
   "metadata": {},
   "outputs": [
    {
     "name": "stdout",
     "output_type": "stream",
     "text": [
      "3.93 µs ± 317 ns per loop (mean ± std. dev. of 7 runs, 100,000 loops each)\n"
     ]
    }
   ],
   "source": [
    "%timeit np.arange(1,10) ** 4"
   ]
  },
  {
   "cell_type": "markdown",
   "id": "f6818e7f",
   "metadata": {},
   "source": [
    "# Creating Arrays"
   ]
  },
  {
   "cell_type": "code",
   "execution_count": 11,
   "id": "9bb40aa7",
   "metadata": {},
   "outputs": [
    {
     "data": {
      "text/plain": [
       "array([1, 2, 3, 4, 5])"
      ]
     },
     "execution_count": 11,
     "metadata": {},
     "output_type": "execute_result"
    }
   ],
   "source": [
    "arr = np.array([1,2,3,4,5])\n",
    "arr"
   ]
  },
  {
   "cell_type": "markdown",
   "id": "98ad5720",
   "metadata": {},
   "source": [
    "# Checking dimension of Array"
   ]
  },
  {
   "cell_type": "code",
   "execution_count": 12,
   "id": "96b0d9d3",
   "metadata": {},
   "outputs": [
    {
     "data": {
      "text/plain": [
       "1"
      ]
     },
     "execution_count": 12,
     "metadata": {},
     "output_type": "execute_result"
    }
   ],
   "source": [
    "arr.ndim"
   ]
  },
  {
   "cell_type": "markdown",
   "id": "99979a3c",
   "metadata": {},
   "source": [
    "# Creating 2D Array"
   ]
  },
  {
   "cell_type": "code",
   "execution_count": 17,
   "id": "b8667e65",
   "metadata": {},
   "outputs": [
    {
     "data": {
      "text/plain": [
       "array([[1, 2, 3, 4],\n",
       "       [5, 6, 7, 8]])"
      ]
     },
     "execution_count": 17,
     "metadata": {},
     "output_type": "execute_result"
    }
   ],
   "source": [
    "arr = np.array([[1,2,3,4], [5,6,7,8]])\n",
    "arr"
   ]
  },
  {
   "cell_type": "markdown",
   "id": "08140764",
   "metadata": {},
   "source": [
    "# Creating 3D Array"
   ]
  },
  {
   "cell_type": "code",
   "execution_count": 18,
   "id": "690f7156",
   "metadata": {},
   "outputs": [
    {
     "data": {
      "text/plain": [
       "array([[[1, 2, 3, 4],\n",
       "        [1, 2, 3, 4],\n",
       "        [1, 2, 3, 4]]])"
      ]
     },
     "execution_count": 18,
     "metadata": {},
     "output_type": "execute_result"
    }
   ],
   "source": [
    "arr = np.array([[[1,2,3,4], [1,2,3,4], [1,2,3,4]]])\n",
    "arr"
   ]
  },
  {
   "cell_type": "markdown",
   "id": "a78d6a28",
   "metadata": {},
   "source": [
    "# Creating nD Array"
   ]
  },
  {
   "cell_type": "code",
   "execution_count": 20,
   "id": "e10b7f92",
   "metadata": {},
   "outputs": [
    {
     "data": {
      "text/plain": [
       "array([[[[[[[[[[1, 2, 3, 4]]]]]]]]]])"
      ]
     },
     "execution_count": 20,
     "metadata": {},
     "output_type": "execute_result"
    }
   ],
   "source": [
    "n = 10\n",
    "arr = np.array([1,2,3,4], ndmin = n)\n",
    "arr"
   ]
  },
  {
   "cell_type": "code",
   "execution_count": null,
   "id": "33daa3fd",
   "metadata": {},
   "outputs": [],
   "source": []
  }
 ],
 "metadata": {
  "kernelspec": {
   "display_name": "Python 3 (ipykernel)",
   "language": "python",
   "name": "python3"
  },
  "language_info": {
   "codemirror_mode": {
    "name": "ipython",
    "version": 3
   },
   "file_extension": ".py",
   "mimetype": "text/x-python",
   "name": "python",
   "nbconvert_exporter": "python",
   "pygments_lexer": "ipython3",
   "version": "3.10.4"
  }
 },
 "nbformat": 4,
 "nbformat_minor": 5
}
